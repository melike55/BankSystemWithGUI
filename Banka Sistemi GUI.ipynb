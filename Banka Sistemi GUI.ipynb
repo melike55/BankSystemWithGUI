{
 "cells": [
  {
   "cell_type": "code",
   "execution_count": 15,
   "id": "38e1e987",
   "metadata": {},
   "outputs": [],
   "source": [
    "from __future__ import annotations\n",
    "from typing import Protocol\n",
    "import uuid"
   ]
  },
  {
   "cell_type": "code",
   "execution_count": 16,
   "id": "f9f0d909",
   "metadata": {},
   "outputs": [
    {
     "name": "stdout",
     "output_type": "stream",
     "text": [
      "Ad:Melike Nur,Soyad:Yılmaz,HesapId:6b851cb7-187c-49ad-95a0-5613a2708895,Bakiye:1500.0₺\n"
     ]
    }
   ],
   "source": [
    "class Musteri():\n",
    "    Ad:str\n",
    "    Soyad:str\n",
    "    Bakiye:float\n",
    "    HesapId:str\n",
    "    \n",
    "    def __init__(self,ad:str,soyad:str,bakiye:float=0.0)->None:\n",
    "        self.Ad=ad\n",
    "        self.Soyad=soyad\n",
    "        self.Bakiye=bakiye\n",
    "        self.HesapId=self.generate_account_number()\n",
    "        #buradaki self metot içinde sınıfın örneğine (instance) bir referanstır, yani sınıfın özelliklerine ve diğer metodlarına erişmenizi sağlar.\n",
    "    def generate_account_number(self)->str:\n",
    "        return str(uuid.uuid4())\n",
    "    def __str__(self)->str:\n",
    "        return f\"Ad:{self.Ad},Soyad:{self.Soyad},HesapId:{self.HesapId},Bakiye:{self.Bakiye}₺\"\n",
    "    \n",
    "    \n",
    "#örnek kullanım\n",
    "musteri1=Musteri(\"Melike Nur\",\"Yılmaz\",1500.0)\n",
    "print(musteri1)"
   ]
  },
  {
   "cell_type": "code",
   "execution_count": 17,
   "id": "df959fc5",
   "metadata": {},
   "outputs": [
    {
     "ename": "IndentationError",
     "evalue": "expected an indented block (944508654.py, line 3)",
     "output_type": "error",
     "traceback": [
      "\u001b[1;36m  File \u001b[1;32m\"C:\\Users\\Lenovo\\AppData\\Local\\Temp\\ipykernel_21124\\944508654.py\"\u001b[1;36m, line \u001b[1;32m3\u001b[0m\n\u001b[1;33m    def paraYatir():\u001b[0m\n\u001b[1;37m    ^\u001b[0m\n\u001b[1;31mIndentationError\u001b[0m\u001b[1;31m:\u001b[0m expected an indented block\n"
     ]
    }
   ],
   "source": [
    "#bank transaction logger: banka işlem günlüğü\n",
    "class BankaIslemGunlugu(Protocol):\n",
    "    def IslemGecmisiniKaydet(self,musteri:Musteri)->bool:\n",
    "        \n",
    "    def IslemGunlugunuKaydet(self)->None:\n",
    "        \n"
   ]
  },
  {
   "cell_type": "code",
   "execution_count": null,
   "id": "d86a20c4",
   "metadata": {},
   "outputs": [],
   "source": [
    "class Banka(Banka):\n",
    "    \n",
    "    \n",
    "    def __init__(self)->None:\n",
    "        \n",
    "    def MusteriEkle(self,ad:str,soyad:str,bakiye:float=0)->Musteri:\n",
    "        \n",
    "    def MusteriBul(self,HesapId:str)->Musteri\n",
    "    \n",
    "    @staticmethod\n",
    "    def transaction_wrapper(function):\n",
    "    \n",
    "    def paraCek(self,HesapId:str,miktar:float)->None:\n",
    "    \n",
    "    def paraYatir(self,HesapId:str,miktar:float)->None:\n",
    "        \n",
    "    def hesapDurumKaydet(self,HesapId:str)->None:\n",
    "    \n",
    "    def IslemGecmisiniKaydet(self)->None:\n",
    "    "
   ]
  },
  {
   "cell_type": "code",
   "execution_count": null,
   "id": "8c0318d9",
   "metadata": {},
   "outputs": [],
   "source": []
  },
  {
   "cell_type": "code",
   "execution_count": null,
   "id": "713a65ac",
   "metadata": {},
   "outputs": [],
   "source": []
  },
  {
   "cell_type": "code",
   "execution_count": null,
   "id": "d73e3004",
   "metadata": {},
   "outputs": [],
   "source": []
  },
  {
   "cell_type": "code",
   "execution_count": null,
   "id": "b757f679",
   "metadata": {},
   "outputs": [],
   "source": []
  },
  {
   "cell_type": "code",
   "execution_count": null,
   "id": "d11d2d27",
   "metadata": {},
   "outputs": [],
   "source": []
  },
  {
   "cell_type": "code",
   "execution_count": null,
   "id": "cc44031a",
   "metadata": {},
   "outputs": [],
   "source": []
  },
  {
   "cell_type": "code",
   "execution_count": null,
   "id": "d3d963d1",
   "metadata": {},
   "outputs": [],
   "source": []
  }
 ],
 "metadata": {
  "kernelspec": {
   "display_name": "Python 3 (ipykernel)",
   "language": "python",
   "name": "python3"
  },
  "language_info": {
   "codemirror_mode": {
    "name": "ipython",
    "version": 3
   },
   "file_extension": ".py",
   "mimetype": "text/x-python",
   "name": "python",
   "nbconvert_exporter": "python",
   "pygments_lexer": "ipython3",
   "version": "3.12.4"
  }
 },
 "nbformat": 4,
 "nbformat_minor": 5
}
